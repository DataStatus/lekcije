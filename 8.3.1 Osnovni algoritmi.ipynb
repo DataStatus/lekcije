{
 "cells": [
  {
   "cell_type": "markdown",
   "metadata": {},
   "source": [
    "#### ЛИНИЈСКИ АЛГОРИТАМ\n",
    "Напишите програм који дозвољава кориснику да унесе неки број а затим се приказује следбеник и претходник датог броја."
   ]
  },
  {
   "cell_type": "code",
   "execution_count": null,
   "metadata": {},
   "outputs": [],
   "source": []
  },
  {
   "cell_type": "markdown",
   "metadata": {},
   "source": [
    "#### РАЗГРАНАТИ АЛГОРИТАМ\n",
    "Напишите програм који за унети број 1 приказује обим и површину квадрата, а за унети број 2 приказује обим и површину правоугаоника.\n"
   ]
  },
  {
   "cell_type": "code",
   "execution_count": null,
   "metadata": {},
   "outputs": [],
   "source": []
  },
  {
   "cell_type": "markdown",
   "metadata": {},
   "source": [
    "#### ЦИКЛИЧНИ АЛГОРИТАМ\n",
    "Напишите програм који за унети број 1 приказује парне бројеве од 1 до 10 коришћењем FOR петље а за унети број 2 приказује парне бројеве од 1 до 10 коришћењем WHILE петље."
   ]
  },
  {
   "cell_type": "code",
   "execution_count": null,
   "metadata": {},
   "outputs": [],
   "source": []
  }
 ],
 "metadata": {
  "kernelspec": {
   "display_name": "Python 3",
   "language": "python",
   "name": "python3"
  },
  "language_info": {
   "codemirror_mode": {
    "name": "ipython",
    "version": 3
   },
   "file_extension": ".py",
   "mimetype": "text/x-python",
   "name": "python",
   "nbconvert_exporter": "python",
   "pygments_lexer": "ipython3",
   "version": "3.6.11"
  }
 },
 "nbformat": 4,
 "nbformat_minor": 5
}
