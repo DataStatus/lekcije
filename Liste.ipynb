{
 "cells": [
  {
   "cell_type": "markdown",
   "id": "conservative-ireland",
   "metadata": {},
   "source": [
    "#### Листа са бројевима\n",
    "У ћелији испод креирајте листу помоћу следећих бројева: 7,15,2,4,63,54,12,14,15,16,4,9,21,26\n",
    "Листу назовите brojevi\n",
    "Покрените ћелију након креирања листе."
   ]
  },
  {
   "cell_type": "code",
   "execution_count": null,
   "id": "mathematical-trader",
   "metadata": {},
   "outputs": [],
   "source": []
  },
  {
   "cell_type": "markdown",
   "id": "lyric-activity",
   "metadata": {},
   "source": [
    "#### Листа са стринговима\n",
    "У ћелији испод креирајте листу помоћу следећих речи: Марко, Душан, Драган, Милорад, Дејан, Томислав\n",
    "Листу назовите imena\n",
    "Покрените ћелију након креирања листе."
   ]
  },
  {
   "cell_type": "code",
   "execution_count": null,
   "id": "dying-uncertainty",
   "metadata": {},
   "outputs": [],
   "source": []
  },
  {
   "cell_type": "markdown",
   "id": "scenic-society",
   "metadata": {},
   "source": [
    "#### Мешовита листа\n",
    "У ћелији испод креирајте мешовиту листу помоћу следећих вредности: Марко, Марковић, српски, 5\n",
    "Листу назовите ucenik\n",
    "Покрените ћелију након креирања листе."
   ]
  },
  {
   "cell_type": "code",
   "execution_count": null,
   "id": "governmental-trout",
   "metadata": {},
   "outputs": [],
   "source": []
  },
  {
   "cell_type": "markdown",
   "id": "tested-clarity",
   "metadata": {},
   "source": [
    "#### ИЗРАЗИ са листама 1 (решење задатка: 70)\n",
    "Променљивој izraz1 доделите вредност збира два броја. Први број је у листи brojevi на нултој позицији док је други број на 4. позицији листе brojevi.\n",
    "Покрените ћелију након исписивања израза.\n",
    "Тачно сте урадили задатак уколико сте добили решење 70."
   ]
  },
  {
   "cell_type": "code",
   "execution_count": null,
   "id": "advised-rating",
   "metadata": {},
   "outputs": [],
   "source": []
  },
  {
   "cell_type": "markdown",
   "id": "moderate-original",
   "metadata": {},
   "source": [
    "#### ИЗРАЗИ са листама 2 \n",
    "У наредне четири ћелије укуцајте по један дати израз и покрените ћелију након тога.\n",
    "izraz2=brojevi[2]+brojevi[3]+brojevi[4]\n",
    "izraz3=brojevi[4]%brojevi[0]\n",
    "izraz4=brojevi[8]//brojevi[7]\n",
    "izraz5=brojevi[1] ** brojevi[2]\n",
    "Који су резултати добијени након покретања ћелија?"
   ]
  },
  {
   "cell_type": "code",
   "execution_count": null,
   "id": "imperial-reaction",
   "metadata": {},
   "outputs": [],
   "source": []
  },
  {
   "cell_type": "code",
   "execution_count": null,
   "id": "constitutional-planner",
   "metadata": {},
   "outputs": [],
   "source": []
  },
  {
   "cell_type": "code",
   "execution_count": null,
   "id": "amazing-scottish",
   "metadata": {},
   "outputs": [],
   "source": []
  },
  {
   "cell_type": "code",
   "execution_count": null,
   "id": "premium-model",
   "metadata": {},
   "outputs": [],
   "source": []
  },
  {
   "cell_type": "markdown",
   "id": "worth-anderson",
   "metadata": {},
   "source": [
    "#### ИЗРАЗИ са листама 3 \n",
    "Укуцајте следећу линију кода: izraz6=imena[3]+\"je \"+imena[4]+\" ов унук\"\n",
    "Покрените ћелију након исписивања израза.\n",
    "Шта је исписано након покретања ћелије?"
   ]
  },
  {
   "cell_type": "code",
   "execution_count": null,
   "id": "palestinian-director",
   "metadata": {},
   "outputs": [],
   "source": [
    "\n"
   ]
  }
 ],
 "metadata": {
  "kernelspec": {
   "display_name": "Python 3",
   "language": "python",
   "name": "python3"
  },
  "language_info": {
   "codemirror_mode": {
    "name": "ipython",
    "version": 3
   },
   "file_extension": ".py",
   "mimetype": "text/x-python",
   "name": "python",
   "nbconvert_exporter": "python",
   "pygments_lexer": "ipython3",
   "version": "3.7.8"
  }
 },
 "nbformat": 4,
 "nbformat_minor": 5
}
