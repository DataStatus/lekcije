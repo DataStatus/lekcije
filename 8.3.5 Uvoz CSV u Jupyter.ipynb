{
 "cells": [
  {
   "cell_type": "markdown",
   "metadata": {},
   "source": [
    "#### 001 УВОЗ CSV ФАЈЛА У JUPYTER РАДНУ СВЕСКУ\n",
    "Учитајте CSV фајл izostanci.csv. Прикажите табелу у радном листу."
   ]
  },
  {
   "cell_type": "code",
   "execution_count": null,
   "metadata": {},
   "outputs": [],
   "source": []
  },
  {
   "cell_type": "markdown",
   "metadata": {},
   "source": [
    "#### 002 ФИЛТРИРАЊЕ НАКОН УВОЗА ИЗ CSV ФАЈЛА\n",
    "Из учитаног фајла приказати само имена ученика који имају неоправдане часове. Табелу сортирати растуће према броју неоправданих часова."
   ]
  },
  {
   "cell_type": "code",
   "execution_count": null,
   "metadata": {},
   "outputs": [],
   "source": []
  }
 ],
 "metadata": {
  "kernelspec": {
   "display_name": "Python 3",
   "language": "python",
   "name": "python3"
  },
  "language_info": {
   "codemirror_mode": {
    "name": "ipython",
    "version": 3
   },
   "file_extension": ".py",
   "mimetype": "text/x-python",
   "name": "python",
   "nbconvert_exporter": "python",
   "pygments_lexer": "ipython3",
   "version": "3.7.10"
  }
 },
 "nbformat": 4,
 "nbformat_minor": 2
}
