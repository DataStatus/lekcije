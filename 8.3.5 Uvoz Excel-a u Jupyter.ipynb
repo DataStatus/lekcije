{
 "cells": [
  {
   "cell_type": "markdown",
   "metadata": {},
   "source": [
    "#### 001 УВОЗ EXCEL ФАЈЛА У JUPYTER РАДНУ СВЕСКУ\n",
    "Учитајте радни лист 8-1 из Excel-овог фајла ucenici.xlsx. Прикажите табелу у радном листу."
   ]
  },
  {
   "cell_type": "code",
   "execution_count": null,
   "metadata": {},
   "outputs": [],
   "source": []
  },
  {
   "cell_type": "markdown",
   "metadata": {},
   "source": [
    "#### 002 УВОЗ ОДРЕЂЕНИХ КОЛОНА EXCEL ФАЈЛА У JUPYTER РАДНУ СВЕСКУ \n",
    "Учитајте радни лист 8-2 из Excel-овог фајла Učenici.xlsx. Прикажите само колоне Име и Историја из дате табеле."
   ]
  },
  {
   "cell_type": "code",
   "execution_count": null,
   "metadata": {},
   "outputs": [],
   "source": []
  },
  {
   "cell_type": "markdown",
   "metadata": {},
   "source": [
    "#### 003 УВОЗ ОДРЕЂЕНИХ КОЛОНА И РЕДОВА EXCEL ФАЈЛА У JUPYTER РАДНУ СВЕСКУ \n",
    "Учитајте радни лист 8-3 из Excel-овог фајла ucenici.xlsx. Сортирајте нерастуће табелу према бодовима из Биологија. Прикажите првих шест редова колона Име и Биологија из сортиране табеле."
   ]
  },
  {
   "cell_type": "code",
   "execution_count": null,
   "metadata": {},
   "outputs": [],
   "source": []
  },
  {
   "cell_type": "markdown",
   "metadata": {},
   "source": [
    "#### 004 ФРЕКВЕНЦИЈСКА АНАЛИЗА ПОДАТАКА\n",
    "Из претходно креиране табеле ученика 8-3 (ucenici83) помоћу методе value_counts() прикажите расподелу поена из Физике. "
   ]
  },
  {
   "cell_type": "code",
   "execution_count": null,
   "metadata": {},
   "outputs": [],
   "source": []
  },
  {
   "cell_type": "markdown",
   "metadata": {},
   "source": [
    "#### 005 ФИЛТРИРАЊЕ ПОДАТАКА У JUPYTER РАДНОЈ СВЕСЦИ\n",
    "Из претходно креиране табеле ученика 8-3 (ucenici83) прикажите само оне ученике који имају већи број бодова од 14 из предмета Биологија и већи број бодова од 17 из предмета Хемија."
   ]
  },
  {
   "cell_type": "code",
   "execution_count": null,
   "metadata": {},
   "outputs": [],
   "source": []
  }
 ],
 "metadata": {
  "kernelspec": {
   "display_name": "Python 3",
   "language": "python",
   "name": "python3"
  },
  "language_info": {
   "codemirror_mode": {
    "name": "ipython",
    "version": 3
   },
   "file_extension": ".py",
   "mimetype": "text/x-python",
   "name": "python",
   "nbconvert_exporter": "python",
   "pygments_lexer": "ipython3",
   "version": "3.7.8"
  }
 },
 "nbformat": 4,
 "nbformat_minor": 4
}
