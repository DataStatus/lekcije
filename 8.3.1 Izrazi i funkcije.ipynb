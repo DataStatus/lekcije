{
 "cells": [
  {
   "cell_type": "markdown",
   "metadata": {},
   "source": [
    "#### ПОКРЕТАЊЕ ЋЕЛИЈЕ\n",
    "Покрените ћелију која се налази испод текста. Потребно је да добијете резултат 2700."
   ]
  },
  {
   "cell_type": "code",
   "execution_count": null,
   "metadata": {},
   "outputs": [],
   "source": [
    "225*12"
   ]
  },
  {
   "cell_type": "markdown",
   "metadata": {},
   "source": [
    "#### АРИТМЕТИЧКИ ОПЕРАТОРИ И ИЗРАЗИ\n",
    "Претходних година сте се упознали са аритметичким операторима:сабирање, одузимање, множење, дељење, степеновање, целобројно дељење, остатак од целобројног дељења.\n",
    "Покрените наредних седам ћелија и проверите да ли знате намену сваког оператора.\n"
   ]
  },
  {
   "cell_type": "code",
   "execution_count": null,
   "metadata": {},
   "outputs": [],
   "source": [
    "56+5"
   ]
  },
  {
   "cell_type": "code",
   "execution_count": null,
   "metadata": {},
   "outputs": [],
   "source": [
    "56-5"
   ]
  },
  {
   "cell_type": "code",
   "execution_count": null,
   "metadata": {},
   "outputs": [],
   "source": [
    "56*5"
   ]
  },
  {
   "cell_type": "code",
   "execution_count": null,
   "metadata": {},
   "outputs": [],
   "source": [
    "56/5"
   ]
  },
  {
   "cell_type": "code",
   "execution_count": null,
   "metadata": {},
   "outputs": [],
   "source": [
    "56**5"
   ]
  },
  {
   "cell_type": "code",
   "execution_count": null,
   "metadata": {},
   "outputs": [],
   "source": [
    "56//5"
   ]
  },
  {
   "cell_type": "code",
   "execution_count": null,
   "metadata": {},
   "outputs": [],
   "source": [
    "56%5"
   ]
  },
  {
   "cell_type": "markdown",
   "metadata": {},
   "source": [
    "#### ИЗРАЗИ 1 (решење задатка: 1)\n",
    "Провежбајте коришћење израза помоћу задатка који је био на пробном завршном испиту из математике (2018/19.): \n",
    "У ћелији испод напишите израз за следећи задатак а затим покрените ћелију. \n",
    "(5/2-10-2,5)/((0,7-1,2)/0,1)-(2,5+0,5*(-3)) \n",
    "Водите рачуна да у ћелији уместо знака , упишете знак . који одваја децимални део од целог дела.\n",
    "Тачно сте урадили задатак уколико сте добили решење 1."
   ]
  },
  {
   "cell_type": "code",
   "execution_count": null,
   "metadata": {},
   "outputs": [],
   "source": []
  },
  {
   "cell_type": "markdown",
   "metadata": {},
   "source": [
    "#### ИЗРАЗИ 2 (решење задатка: 125 грама)\n",
    "Провежбајте коришћење израза помоћу задатка који је био на пробном завршном испиту из математике (2018/19.):\n",
    "\n",
    "У ћелији испод напишите израз за следећи задатак а затим покрените ћелију. \n",
    "По Љиљином рецепту за 52 новогодишња колача потребно је:\n",
    "• 400 g брашна\n",
    "• 100 g шећера\n",
    "• 150 g маргарина\n",
    "• 30 g цимета\n",
    "• 10 g прашка за пециво.\n",
    "Колико је грама шећера потребно за 65 оваквих колача?\n",
    "Тачно сте урадили задатак уколико сте добили решење 125 грама."
   ]
  },
  {
   "cell_type": "code",
   "execution_count": null,
   "metadata": {},
   "outputs": [],
   "source": []
  },
  {
   "cell_type": "markdown",
   "metadata": {},
   "source": [
    "#### ИЗРАЗИ 3 (решење задатка: 120000 динара) \n",
    "Провежбајте коришћење израза помоћу задатка који је био на пробном завршном испиту из математике (2019/20.):\n",
    "\n",
    "У ћелији испод напишите израз за следећи задатак а затим покрените ћелију. \n",
    "Гордана је на Сајму аутомобила купила нов ауто чија је цена 1 000 000 динара. Процењује се да ће њен ауто у\n",
    "првој години изгубити 12% вредности. Колико тај губитак износи у динарима?\n",
    "Тачно сте урадили задатак уколико сте добили решење 120000 динара."
   ]
  },
  {
   "cell_type": "code",
   "execution_count": null,
   "metadata": {},
   "outputs": [],
   "source": []
  },
  {
   "cell_type": "markdown",
   "metadata": {},
   "source": [
    "#### Функција ABS() (решење задатка: 2.5)\n",
    "Претходних година користили се функцију abs(). \n",
    "У ћелији испод упишите и израчунајте израз за следећи текстуални задатак:\n",
    "Прикажите апсолутну вредност количника бројева 15 и -6\n",
    "Тачно сте урадили задатак уколико сте добили решење 2.5."
   ]
  },
  {
   "cell_type": "code",
   "execution_count": null,
   "metadata": {},
   "outputs": [],
   "source": []
  },
  {
   "cell_type": "markdown",
   "metadata": {},
   "source": [
    "#### Функција ROUND() (решење задатка: 0.1429)\n",
    "Претходних година користили се функције round(). \n",
    "У ћелији испод упишите израчунајте вредност израза 1/7.\n",
    "У ћелији испод упишите и израчунајте вредност израза 1/7 заокругљен  на 4 децимале.\n",
    "Тачно сте урадили задатак уколико сте добили решење 0.1429.\n"
   ]
  },
  {
   "cell_type": "code",
   "execution_count": null,
   "metadata": {},
   "outputs": [],
   "source": []
  },
  {
   "cell_type": "code",
   "execution_count": null,
   "metadata": {},
   "outputs": [],
   "source": []
  },
  {
   "cell_type": "code",
   "execution_count": null,
   "metadata": {},
   "outputs": [],
   "source": []
  }
 ],
 "metadata": {
  "kernelspec": {
   "display_name": "Python 3",
   "language": "python",
   "name": "python3"
  },
  "language_info": {
   "codemirror_mode": {
    "name": "ipython",
    "version": 3
   },
   "file_extension": ".py",
   "mimetype": "text/x-python",
   "name": "python",
   "nbconvert_exporter": "python",
   "pygments_lexer": "ipython3",
   "version": "3.6.11"
  }
 },
 "nbformat": 4,
 "nbformat_minor": 5
}
