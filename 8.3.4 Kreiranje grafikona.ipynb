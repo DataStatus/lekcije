{
 "cells": [
  {
   "cell_type": "markdown",
   "id": "improving-orange",
   "metadata": {},
   "source": [
    "#### ЛИНИЈСКИ ГРАФИКОН\n",
    "Напишите програм који на основу датих листа исцртава линијски графикон. Доделите назив графикону као и називе x и y оси. \n"
   ]
  },
  {
   "cell_type": "code",
   "execution_count": 2,
   "id": "early-bumper",
   "metadata": {},
   "outputs": [],
   "source": [
    "proizvodi=[\"ratluk\",\"medeno srce\",\"jafa\",\"plazma\",\"wellness\",\"barni\",\"negro\",\"gumene bombone\",\"orbit\",\"karamela\"] \n",
    "ugljeni_hidrati=[84,66.1,69,70,56.9,58,95.5,45,58,78.8]"
   ]
  },
  {
   "cell_type": "code",
   "execution_count": null,
   "id": "offshore-happiness",
   "metadata": {},
   "outputs": [],
   "source": []
  },
  {
   "cell_type": "markdown",
   "id": "treated-spiritual",
   "metadata": {},
   "source": [
    "#### СТУБИЧАСТИ ГРАФИКОН\n",
    "Напишите програм који на основу датих листа исцртава стубичасти графикон. Доделите назив графикону као и називе x и y оси. \n"
   ]
  },
  {
   "cell_type": "code",
   "execution_count": null,
   "id": "super-galaxy",
   "metadata": {},
   "outputs": [],
   "source": []
  },
  {
   "cell_type": "markdown",
   "id": "discrete-elephant",
   "metadata": {},
   "source": [
    "#### СЕКТОРСКИ ГРАФИКОН\n",
    "Напишите програм који на основу датих листа исцртава секторски графикон. Графикон треба да прикаже удео угљених хидрата у 1000 грама производа (10 производа по 100 грама). Доделите назив графикону."
   ]
  },
  {
   "cell_type": "code",
   "execution_count": null,
   "id": "analyzed-strike",
   "metadata": {},
   "outputs": [],
   "source": []
  }
 ],
 "metadata": {
  "kernelspec": {
   "display_name": "Python 3",
   "language": "python",
   "name": "python3"
  },
  "language_info": {
   "codemirror_mode": {
    "name": "ipython",
    "version": 3
   },
   "file_extension": ".py",
   "mimetype": "text/x-python",
   "name": "python",
   "nbconvert_exporter": "python",
   "pygments_lexer": "ipython3",
   "version": "3.6.13"
  }
 },
 "nbformat": 4,
 "nbformat_minor": 5
}
